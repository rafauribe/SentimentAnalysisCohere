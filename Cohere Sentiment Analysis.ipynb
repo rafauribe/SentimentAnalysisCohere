{
 "cells": [
  {
   "cell_type": "code",
   "execution_count": 1,
   "id": "d756edf1-be3d-4ef1-b63a-26e793b06971",
   "metadata": {},
   "outputs": [
    {
     "name": "stdout",
     "output_type": "stream",
     "text": [
      "Collecting cohere\n",
      "  Obtaining dependency information for cohere from https://files.pythonhosted.org/packages/47/98/e6e12da2134c2c806d8363a8e8c41fa92678cb45f58a437ce50838a42360/cohere-4.23-py3-none-any.whl.metadata\n",
      "  Downloading cohere-4.23-py3-none-any.whl.metadata (5.3 kB)\n",
      "Requirement already satisfied: aiohttp<4.0,>=3.0 in c:\\users\\rafau\\appdata\\local\\programs\\python\\python311\\lib\\site-packages (from cohere) (3.8.5)\n",
      "Collecting backoff<3.0,>=2.0 (from cohere)\n",
      "  Downloading backoff-2.2.1-py3-none-any.whl (15 kB)\n",
      "Collecting fastavro==1.8.2 (from cohere)\n",
      "  Obtaining dependency information for fastavro==1.8.2 from https://files.pythonhosted.org/packages/9c/04/fc6c6f7376a61f10944853261dbbf4e890285530bcb2375a39da9be0916c/fastavro-1.8.2-cp311-cp311-win_amd64.whl.metadata\n",
      "  Downloading fastavro-1.8.2-cp311-cp311-win_amd64.whl.metadata (5.6 kB)\n",
      "Collecting importlib_metadata<7.0,>=6.0 (from cohere)\n",
      "  Obtaining dependency information for importlib_metadata<7.0,>=6.0 from https://files.pythonhosted.org/packages/cc/37/db7ba97e676af155f5fcb1a35466f446eadc9104e25b83366e8088c9c926/importlib_metadata-6.8.0-py3-none-any.whl.metadata\n",
      "  Downloading importlib_metadata-6.8.0-py3-none-any.whl.metadata (5.1 kB)\n",
      "Requirement already satisfied: requests<3.0.0,>=2.25.0 in c:\\users\\rafau\\appdata\\local\\programs\\python\\python311\\lib\\site-packages (from cohere) (2.31.0)\n",
      "Requirement already satisfied: urllib3<3,>=1.26 in c:\\users\\rafau\\appdata\\local\\programs\\python\\python311\\lib\\site-packages (from cohere) (2.0.4)\n",
      "Requirement already satisfied: attrs>=17.3.0 in c:\\users\\rafau\\appdata\\local\\programs\\python\\python311\\lib\\site-packages (from aiohttp<4.0,>=3.0->cohere) (23.1.0)\n",
      "Requirement already satisfied: charset-normalizer<4.0,>=2.0 in c:\\users\\rafau\\appdata\\local\\programs\\python\\python311\\lib\\site-packages (from aiohttp<4.0,>=3.0->cohere) (3.2.0)\n",
      "Requirement already satisfied: multidict<7.0,>=4.5 in c:\\users\\rafau\\appdata\\local\\programs\\python\\python311\\lib\\site-packages (from aiohttp<4.0,>=3.0->cohere) (6.0.4)\n",
      "Requirement already satisfied: async-timeout<5.0,>=4.0.0a3 in c:\\users\\rafau\\appdata\\local\\programs\\python\\python311\\lib\\site-packages (from aiohttp<4.0,>=3.0->cohere) (4.0.3)\n",
      "Requirement already satisfied: yarl<2.0,>=1.0 in c:\\users\\rafau\\appdata\\local\\programs\\python\\python311\\lib\\site-packages (from aiohttp<4.0,>=3.0->cohere) (1.9.2)\n",
      "Requirement already satisfied: frozenlist>=1.1.1 in c:\\users\\rafau\\appdata\\local\\programs\\python\\python311\\lib\\site-packages (from aiohttp<4.0,>=3.0->cohere) (1.4.0)\n",
      "Requirement already satisfied: aiosignal>=1.1.2 in c:\\users\\rafau\\appdata\\local\\programs\\python\\python311\\lib\\site-packages (from aiohttp<4.0,>=3.0->cohere) (1.3.1)\n",
      "Collecting zipp>=0.5 (from importlib_metadata<7.0,>=6.0->cohere)\n",
      "  Obtaining dependency information for zipp>=0.5 from https://files.pythonhosted.org/packages/8c/08/d3006317aefe25ea79d3b76c9650afabaf6d63d1c8443b236e7405447503/zipp-3.16.2-py3-none-any.whl.metadata\n",
      "  Downloading zipp-3.16.2-py3-none-any.whl.metadata (3.7 kB)\n",
      "Requirement already satisfied: idna<4,>=2.5 in c:\\users\\rafau\\appdata\\local\\programs\\python\\python311\\lib\\site-packages (from requests<3.0.0,>=2.25.0->cohere) (3.4)\n",
      "Requirement already satisfied: certifi>=2017.4.17 in c:\\users\\rafau\\appdata\\local\\programs\\python\\python311\\lib\\site-packages (from requests<3.0.0,>=2.25.0->cohere) (2023.7.22)\n",
      "Downloading cohere-4.23-py3-none-any.whl (47 kB)\n",
      "   ---------------------------------------- 0.0/47.2 kB ? eta -:--:--\n",
      "   ---------------------------------------- 47.2/47.2 kB 2.3 MB/s eta 0:00:00\n",
      "Downloading fastavro-1.8.2-cp311-cp311-win_amd64.whl (409 kB)\n",
      "   ---------------------------------------- 0.0/409.4 kB ? eta -:--:--\n",
      "   --------------------------------------- 409.4/409.4 kB 12.9 MB/s eta 0:00:00\n",
      "Downloading importlib_metadata-6.8.0-py3-none-any.whl (22 kB)\n",
      "Downloading zipp-3.16.2-py3-none-any.whl (7.2 kB)\n",
      "Installing collected packages: zipp, fastavro, backoff, importlib_metadata, cohere\n",
      "Successfully installed backoff-2.2.1 cohere-4.23 fastavro-1.8.2 importlib_metadata-6.8.0 zipp-3.16.2\n",
      "Note: you may need to restart the kernel to use updated packages.\n"
     ]
    }
   ],
   "source": [
    "pip install cohere"
   ]
  },
  {
   "cell_type": "code",
   "execution_count": 3,
   "id": "7a49acc3-5501-41a4-ac01-b1cac0b0784c",
   "metadata": {},
   "outputs": [
    {
     "name": "stdout",
     "output_type": "stream",
     "text": [
      "The confidence levels of the labels are: [Classification<prediction: \"Positivo\", confidence: 0.5012923, labels: {'Negativo': LabelPrediction(confidence=0.19292893), 'Neutral': LabelPrediction(confidence=0.3057788), 'Positivo': LabelPrediction(confidence=0.5012923)}>, Classification<prediction: \"Positivo\", confidence: 0.49751663, labels: {'Negativo': LabelPrediction(confidence=0.21118769), 'Neutral': LabelPrediction(confidence=0.29129568), 'Positivo': LabelPrediction(confidence=0.49751663)}>, Classification<prediction: \"Neutral\", confidence: 0.5996224, labels: {'Negativo': LabelPrediction(confidence=0.20849128), 'Neutral': LabelPrediction(confidence=0.5996224), 'Positivo': LabelPrediction(confidence=0.1918863)}>, Classification<prediction: \"Negativo\", confidence: 0.99571705, labels: {'Negativo': LabelPrediction(confidence=0.99571705), 'Neutral': LabelPrediction(confidence=0.003412546), 'Positivo': LabelPrediction(confidence=0.0008704176)}>, Classification<prediction: \"Negativo\", confidence: 0.93892515, labels: {'Negativo': LabelPrediction(confidence=0.93892515), 'Neutral': LabelPrediction(confidence=0.009520665), 'Positivo': LabelPrediction(confidence=0.051554177)}>, Classification<prediction: \"Negativo\", confidence: 0.7119345, labels: {'Negativo': LabelPrediction(confidence=0.7119345), 'Neutral': LabelPrediction(confidence=0.2688637), 'Positivo': LabelPrediction(confidence=0.01920176)}>, Classification<prediction: \"Negativo\", confidence: 0.5043806, labels: {'Negativo': LabelPrediction(confidence=0.5043806), 'Neutral': LabelPrediction(confidence=0.15677911), 'Positivo': LabelPrediction(confidence=0.33884034)}>, Classification<prediction: \"Positivo\", confidence: 0.47972822, labels: {'Negativo': LabelPrediction(confidence=0.44241104), 'Neutral': LabelPrediction(confidence=0.07786073), 'Positivo': LabelPrediction(confidence=0.47972822)}>, Classification<prediction: \"Positivo\", confidence: 0.63767344, labels: {'Negativo': LabelPrediction(confidence=0.15749648), 'Neutral': LabelPrediction(confidence=0.20483007), 'Positivo': LabelPrediction(confidence=0.63767344)}>, Classification<prediction: \"Positivo\", confidence: 0.6538392, labels: {'Negativo': LabelPrediction(confidence=0.30070695), 'Neutral': LabelPrediction(confidence=0.04545387), 'Positivo': LabelPrediction(confidence=0.6538392)}>, Classification<prediction: \"Positivo\", confidence: 0.55238634, labels: {'Negativo': LabelPrediction(confidence=0.34217027), 'Neutral': LabelPrediction(confidence=0.105443396), 'Positivo': LabelPrediction(confidence=0.55238634)}>, Classification<prediction: \"Neutral\", confidence: 0.9286992, labels: {'Negativo': LabelPrediction(confidence=0.005407094), 'Neutral': LabelPrediction(confidence=0.9286992), 'Positivo': LabelPrediction(confidence=0.065893725)}>, Classification<prediction: \"Neutral\", confidence: 0.6619602, labels: {'Negativo': LabelPrediction(confidence=0.19811365), 'Neutral': LabelPrediction(confidence=0.6619602), 'Positivo': LabelPrediction(confidence=0.13992617)}>, Classification<prediction: \"Negativo\", confidence: 0.6579361, labels: {'Negativo': LabelPrediction(confidence=0.6579361), 'Neutral': LabelPrediction(confidence=0.011600339), 'Positivo': LabelPrediction(confidence=0.33046356)}>, Classification<prediction: \"Neutral\", confidence: 0.8912515, labels: {'Negativo': LabelPrediction(confidence=0.06875089), 'Neutral': LabelPrediction(confidence=0.8912515), 'Positivo': LabelPrediction(confidence=0.03999758)}>, Classification<prediction: \"Neutral\", confidence: 0.5998711, labels: {'Negativo': LabelPrediction(confidence=0.26723287), 'Neutral': LabelPrediction(confidence=0.5998711), 'Positivo': LabelPrediction(confidence=0.13289602)}>, Classification<prediction: \"Negativo\", confidence: 0.91805315, labels: {'Negativo': LabelPrediction(confidence=0.91805315), 'Neutral': LabelPrediction(confidence=0.048590396), 'Positivo': LabelPrediction(confidence=0.033356443)}>, Classification<prediction: \"Negativo\", confidence: 0.5540264, labels: {'Negativo': LabelPrediction(confidence=0.5540264), 'Neutral': LabelPrediction(confidence=0.046158217), 'Positivo': LabelPrediction(confidence=0.39981535)}>, Classification<prediction: \"Negativo\", confidence: 0.69124067, labels: {'Negativo': LabelPrediction(confidence=0.69124067), 'Neutral': LabelPrediction(confidence=0.003124023), 'Positivo': LabelPrediction(confidence=0.30563533)}>, Classification<prediction: \"Positivo\", confidence: 0.7204129, labels: {'Negativo': LabelPrediction(confidence=0.25233737), 'Neutral': LabelPrediction(confidence=0.027249698), 'Positivo': LabelPrediction(confidence=0.7204129)}>, Classification<prediction: \"Neutral\", confidence: 0.8224724, labels: {'Negativo': LabelPrediction(confidence=0.11960682), 'Neutral': LabelPrediction(confidence=0.8224724), 'Positivo': LabelPrediction(confidence=0.057920773)}>, Classification<prediction: \"Negativo\", confidence: 0.9067638, labels: {'Negativo': LabelPrediction(confidence=0.9067638), 'Neutral': LabelPrediction(confidence=0.07375971), 'Positivo': LabelPrediction(confidence=0.019476477)}>, Classification<prediction: \"Positivo\", confidence: 0.97873104, labels: {'Negativo': LabelPrediction(confidence=0.017256975), 'Neutral': LabelPrediction(confidence=0.0040119593), 'Positivo': LabelPrediction(confidence=0.97873104)}>, Classification<prediction: \"Neutral\", confidence: 0.79133856, labels: {'Negativo': LabelPrediction(confidence=0.12887125), 'Neutral': LabelPrediction(confidence=0.79133856), 'Positivo': LabelPrediction(confidence=0.07979017)}>, Classification<prediction: \"Negativo\", confidence: 0.8531729, labels: {'Negativo': LabelPrediction(confidence=0.8531729), 'Neutral': LabelPrediction(confidence=0.13639522), 'Positivo': LabelPrediction(confidence=0.010431863)}>, Classification<prediction: \"Positivo\", confidence: 0.94262975, labels: {'Negativo': LabelPrediction(confidence=0.010926572), 'Neutral': LabelPrediction(confidence=0.046443675), 'Positivo': LabelPrediction(confidence=0.94262975)}>, Classification<prediction: \"Positivo\", confidence: 0.6297119, labels: {'Negativo': LabelPrediction(confidence=0.13699876), 'Neutral': LabelPrediction(confidence=0.23328929), 'Positivo': LabelPrediction(confidence=0.6297119)}>, Classification<prediction: \"Negativo\", confidence: 0.5434522, labels: {'Negativo': LabelPrediction(confidence=0.5434522), 'Neutral': LabelPrediction(confidence=0.12414889), 'Positivo': LabelPrediction(confidence=0.3323989)}>, Classification<prediction: \"Positivo\", confidence: 0.6261053, labels: {'Negativo': LabelPrediction(confidence=0.30618057), 'Neutral': LabelPrediction(confidence=0.06771411), 'Positivo': LabelPrediction(confidence=0.6261053)}>, Classification<prediction: \"Positivo\", confidence: 0.92660666, labels: {'Negativo': LabelPrediction(confidence=0.049635585), 'Neutral': LabelPrediction(confidence=0.023757774), 'Positivo': LabelPrediction(confidence=0.92660666)}>, Classification<prediction: \"Negativo\", confidence: 0.9912411, labels: {'Negativo': LabelPrediction(confidence=0.9912411), 'Neutral': LabelPrediction(confidence=0.004179945), 'Positivo': LabelPrediction(confidence=0.00457897)}>, Classification<prediction: \"Negativo\", confidence: 0.97019064, labels: {'Negativo': LabelPrediction(confidence=0.97019064), 'Neutral': LabelPrediction(confidence=0.024560355), 'Positivo': LabelPrediction(confidence=0.005249029)}>]\n"
     ]
    }
   ],
   "source": [
    "import cohere\n",
    "from cohere.responses.classify import Example\n",
    "co = cohere.Client('jnmzjbaFSZ11DgncfFySWv5cjTwwQACKgbqKYtap') # This is your trial API key\n",
    "response = co.classify(\n",
    "  model='embed-english-v2.0',\n",
    "  inputs=[\"Mas espacios (Momentos) para toma de decisiones y actividades esenciales del área.\\n\\nTomas de decisiones oportunas.\", \"Empoderamiento en la toma de decisiones y Flexibilización de facultades y autorizaciones.\", \"Autonomía para la toma de decisiones\", \"La carga excesiva de trabajo en mi área de trabajo.\", \"Lograr un mayor balance vida - trabajo. Por los retos de la compañía la carta laboral es demasiado alta.\", \"Planeación del trabajo basada en directrices que contemplen el tiempo de operatividad final de las actividades\", \"indudablemente lo primero sería que la compañía estableciera prioridades en los proyectos\", \"Estoy dando mi mejor rendimiento.\", \"Tener la oportunidad de estudiar inglés en el exterior para mejorar mi nivel.\", \"Que la compañía sea menos burocrática y más autónoma en la toma de decisiones \", \"Es importante que todas las áreas de la organización tengan claro el rol que desempeñan y como contribuyen en el crecimiento de la misma.  Considero que en muchas áreas no se conoce a fondo que realizan las otras y hasta dónde llega el alcance.  Qué los funcionarios acepten los retos y tomen acciones\", \"Tenemos en la compañía un gran número de reuniones\", \"Los procedimientos y formatos no simplificados de los procesos de Compras de Enlace (empresa que nos provee el back office)\", \"Tener más empoderamiento para tomar decisiones oportunas y efectivas en mi área de trabajo.\\n\\nDisminuir las reuniones para mejorar la productividad en el horario laboral.\", \"Entendiendo la importancia de las auditorías... creo que se debe revisar la forma como se afrontan las mismas... creo que vienen desde diferentes frentes y consumen un volumen importante de horas de trabajo\", \"Tener más flexibilidad con el tiempo.\", \"Sugeriría que la Corporación priorizara los retos estratégicos para fraccionarlos en el tiempo y así evitar la concentración de actividades que tienen el mismo nivel de prioridad para las mismas personas que las gestionan.\", \"que se brinde mas empoderamiento y flexibilidad.\", \"Me gustaría innovar lo suficiente para disminuir la carga laboral actual y ser mas estratégica en mi contribución a la organización.\\n\\nMe gustaría tener foco en los objetivos que debo perseguir actualmente\\n\\nMe gustaría tener menos jefes pidiendo objetivos que se pueden encontrar\\n\\nMe gustaría tener plan sucesión en la corporación\", \"El trabajo que se viene haciendo en cultura va a resultar clave para que todos comprendan el propósito de la organización y las personas\", \"Mayor autonomía\", \"Mas que cambiar\", \"Oportunidad de participar en la ejecución de proyectos y toma de decisiones que impactan la empresa y corporativo y que esta participación sea valorada y reconocida. \", \"En el caso de VERSA\", \"Nada\", \"Conocer más sobre las buenas prácticas de las otras empresas del grupo que poseen mayor experiencia\", \"1. Sistema de reconocimiento: resaltar el buen trabajo cuando amerite. 2. Mas retroalimentación del desempeño y planes enfocados a las brechas encontradas.\", \"Que tuviésemos el tiempo suficiente para pensar sobre las decisiones que tenemos que tomar. Tener el tiempo para hacer una tarea a la vez\", \"Que se ejerza un liderazgo coherente\", \"Tener claro mi plan de carrera en la compañía.\", \"Buscaría romper los silos organizacionales que limitan la creación de sinergias capaces de potenciar los resultados de la corporación. Es crucial establecer un ambiente de trabajo en el cual las personas no sientan temor de experimentar y abandonen la cautela excesiva para evitar riesgos. Además\", \"Menos presión sobre los controles innecesarios y más atención a los controles críticos del negocio y la operación.\"],\n",
    "  examples=[Example(\"No hay oportunidades de crecimiento aquí.\", \"Negativo\"), Example(\"No hay suficiente comunicación entre departamentos.\", \"Negativo\"), Example(\"La dirección no parece interesarse en los empleados.\", \"Negativo\"), Example(\"No hay suficiente comunicación entre departamentos.\", \"Negativo\"), Example(\"No hay suficiente comunicación entre departamentos.\", \"Negativo\"), Example(\"Me siento estresado por la carga de trabajo.\", \"Negativo\"), Example(\"La dirección no parece interesarse en los empleados.\", \"Negativo\"), Example(\"No hay oportunidades de crecimiento aquí.\", \"Negativo\"), Example(\"Las condiciones de trabajo podrían mejorar.\", \"Negativo\"), Example(\"La dirección no parece interesarse en los empleados.\", \"Negativo\"), Example(\"Las condiciones de trabajo podrían mejorar.\", \"Negativo\"), Example(\"Las condiciones de trabajo podrían mejorar.\", \"Negativo\"), Example(\"No hay oportunidades de crecimiento aquí.\", \"Negativo\"), Example(\"Las condiciones de trabajo podrían mejorar.\", \"Negativo\"), Example(\"Me siento estresado por la carga de trabajo.\", \"Negativo\"), Example(\"La dirección no parece interesarse en los empleados.\", \"Negativo\"), Example(\"Tenemos reuniones semanales.\", \"Neutral\"), Example(\"Los horarios de trabajo son regulares.\", \"Neutral\"), Example(\"Los horarios de trabajo son regulares.\", \"Neutral\"), Example(\"Los horarios de trabajo son regulares.\", \"Neutral\"), Example(\"Tenemos reuniones semanales.\", \"Neutral\"), Example(\"La tecnología que usamos está actualizada.\", \"Neutral\"), Example(\"Tenemos reuniones semanales.\", \"Neutral\"), Example(\"La oficina está bien ubicada.\", \"Neutral\"), Example(\"Los horarios de trabajo son regulares.\", \"Neutral\"), Example(\"Los horarios de trabajo son regulares.\", \"Neutral\"), Example(\"La oficina está bien ubicada.\", \"Neutral\"), Example(\"La empresa cumple con las normativas.\", \"Neutral\"), Example(\"La oficina está bien ubicada.\", \"Neutral\"), Example(\"La oficina está bien ubicada.\", \"Neutral\"), Example(\"Los horarios de trabajo son regulares.\", \"Neutral\"), Example(\"La tecnología que usamos está actualizada.\", \"Neutral\"), Example(\"Me encanta la cultura de la compañía.\", \"Positivo\"), Example(\"Las oportunidades de crecimiento aquí son excelentes.\", \"Positivo\"), Example(\"La empresa realmente valora mi trabajo.\", \"Positivo\"), Example(\"Las oportunidades de crecimiento aquí son excelentes.\", \"Positivo\"), Example(\"Me siento muy apoyado por mi equipo.\", \"Positivo\"), Example(\"Me siento muy apoyado por mi equipo.\", \"Positivo\"), Example(\"Las oportunidades de crecimiento aquí son excelentes.\", \"Positivo\"), Example(\"Me encanta la cultura de la compañía.\", \"Positivo\"), Example(\"Las oportunidades de crecimiento aquí son excelentes.\", \"Positivo\"), Example(\"La empresa realmente valora mi trabajo.\", \"Positivo\"), Example(\"La empresa realmente valora mi trabajo.\", \"Positivo\"), Example(\"Me encanta la cultura de la compañía.\", \"Positivo\"), Example(\"Las oportunidades de crecimiento aquí son excelentes.\", \"Positivo\"), Example(\"La dirección es muy inspiradora.\", \"Positivo\"), Example(\"La empresa realmente valora mi trabajo.\", \"Positivo\"), Example(\"Me encanta la cultura de la compañía.\", \"Positivo\"), Example(\"La empresa realmente valora mi trabajo.\", \"Positivo\")])\n",
    "print('The confidence levels of the labels are: {}'.format(response.classifications))"
   ]
  },
  {
   "cell_type": "code",
   "execution_count": null,
   "id": "2519c79d-a44d-4563-807f-fb799e6515d6",
   "metadata": {},
   "outputs": [],
   "source": []
  }
 ],
 "metadata": {
  "kernelspec": {
   "display_name": "Python 3 (ipykernel)",
   "language": "python",
   "name": "python3"
  },
  "language_info": {
   "codemirror_mode": {
    "name": "ipython",
    "version": 3
   },
   "file_extension": ".py",
   "mimetype": "text/x-python",
   "name": "python",
   "nbconvert_exporter": "python",
   "pygments_lexer": "ipython3",
   "version": "3.11.5"
  }
 },
 "nbformat": 4,
 "nbformat_minor": 5
}
